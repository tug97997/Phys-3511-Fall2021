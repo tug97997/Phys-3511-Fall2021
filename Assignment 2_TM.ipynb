{
 "cells": [
  {
   "cell_type": "markdown",
   "metadata": {},
   "source": [
    "# Assignment 2a Due 9/8\n",
    "\n",
    "In this assigment you will explore and become familiar with writing and using algorithms to numerically approxomate definite integrals.\n",
    "\n",
    "Assignment Overview:\n",
    "* Impliment your own midpoint, trapazoid, and Simpson's rule integration algorithms\n",
    "* Use those to solve a definite integral\n",
    "* Compare your algorithms to those from scipy\n",
    "* Compare all approximate solutions to the exact solutions\n"
   ]
  },
  {
   "cell_type": "markdown",
   "metadata": {},
   "source": [
    "You can import only the following packages: numpy, math, scipy, matplotlib.pyplot"
   ]
  },
  {
   "cell_type": "code",
   "execution_count": 2,
   "metadata": {},
   "outputs": [],
   "source": [
    "import matplotlib.pyplot as plt\n",
    "import math \n",
    "import numpy as np\n",
    "from scipy import integrate "
   ]
  },
  {
   "cell_type": "markdown",
   "metadata": {},
   "source": [
    "Now we can define our integration algorithms"
   ]
  },
  {
   "cell_type": "code",
   "execution_count": 23,
   "metadata": {},
   "outputs": [],
   "source": [
    "def midpoint_rule(f,x0,xn,n_part):\n",
    "    dx = (xn-x0)/float(n_part)\n",
    "    area = 0\n",
    "    for i in range (0,n_part):\n",
    "        area += dx*f(x0 +i*dx)\n",
    "    print(area)    \n",
    "    return area"
   ]
  },
  {
   "cell_type": "code",
   "execution_count": 65,
   "metadata": {},
   "outputs": [],
   "source": [
    "def trapezoidal_rule(f,x0,xn,n):\n",
    "    h = (xn-x0)/(n-1)\n",
    "    x = np.linspace(x0,xn,n)\n",
    "    y = f(x)\n",
    "    trapezoidal_sol = (h/2)*(y[0] + 2 * sum(y[1:n-1])+y[n-1])\n",
    "    print(trapezoidal_sol)"
   ]
  },
  {
   "cell_type": "code",
   "execution_count": 57,
   "metadata": {},
   "outputs": [],
   "source": [
    "def simpsons_rule(f,x0,xn,n):\n",
    "    dx = (xn-x0)/n\n",
    "    x = np.linspace(x0,xn,n+1)\n",
    "    y = f(x)\n",
    "    simpsons_sol = dx/3 * np.sum(y[0:-1:2]+ 4*y[1::2] + y[2::2])\n",
    "    print(simpsons_sol)\n",
    "    return simpsons_sol\n",
    "    "
   ]
  },
  {
   "cell_type": "markdown",
   "metadata": {},
   "source": [
    "# Question \n",
    "Sanity checking your code is very important. How can you check that your functions are working properly?\n",
    "By testing your solution against known and expected values for simple integrals."
   ]
  },
  {
   "cell_type": "markdown",
   "metadata": {},
   "source": []
  },
  {
   "cell_type": "markdown",
   "metadata": {},
   "source": [
    "For this notebook assigment we would like to solve the integral\\\n",
    "$\\int_{a}^{b} \\frac{2}{(2^2 + x^2)^{3/2}}dx$"
   ]
  },
  {
   "cell_type": "markdown",
   "metadata": {},
   "source": [
    "# Question\n",
    "Have you seen an integral like this before in physics? From where? Yes, This reminds me of the EM field integrals we had to do in electricity and magnetism. "
   ]
  },
  {
   "cell_type": "markdown",
   "metadata": {},
   "source": []
  },
  {
   "cell_type": "markdown",
   "metadata": {},
   "source": [
    "Solve the above integral using the numerical integrations that you wrote. When defining the function we will integrate over do so using python's **lambda** function.\n",
    "\n",
    "For the integration take $a = 0,\\; b = 2,\\;$ and we will split it up into 6 partitions."
   ]
  },
  {
   "cell_type": "markdown",
   "metadata": {},
   "source": [
    "# Question\n",
    "What is the exact solution?"
   ]
  },
  {
   "cell_type": "code",
   "execution_count": 6,
   "metadata": {},
   "outputs": [],
   "source": [
    "#exact solution to the integral\n",
    "exact_solution =.3535533905932738"
   ]
  },
  {
   "cell_type": "code",
   "execution_count": 67,
   "metadata": {},
   "outputs": [
    {
     "name": "stdout",
     "output_type": "stream",
     "text": [
      "0.3798752218060784\n",
      "0.35267026921866235\n",
      "0.35355179062444925\n"
     ]
    }
   ],
   "source": [
    "#solve the integral using your integration functions\n",
    "my_midpoint_sol = midpoint_rule(lambda x: 2/((4+x**2)**(3/2)),0,2,6)\n",
    "my_trapezoidal_sol = trapezoidal_rule(lambda x: 2/((4+x**2)**(3/2)),0,2,6)\n",
    "my_simpsons_sol = simpsons_rule(lambda x: 2/((4+x**2)**(3/2)),0,2,6)"
   ]
  },
  {
   "cell_type": "markdown",
   "metadata": {},
   "source": [
    "Use the trapz and simps methods from scipy's integration library to solve the integral.\n",
    "\n",
    "Note: Shit+tab at the end of a function in jupyter notebook reveals lots of information about the function."
   ]
  },
  {
   "cell_type": "code",
   "execution_count": 72,
   "metadata": {},
   "outputs": [
    {
     "name": "stdout",
     "output_type": "stream",
     "text": [
      "exact scipy solution Trapazoidal: 0.35293994641413146\n",
      "exact scipy solution Simpsons: 0.35355179062444925\n"
     ]
    }
   ],
   "source": [
    "#scipy integration\n",
    "x0 = 0\n",
    "xn = 2\n",
    "n = 6\n",
    "xs = np.linspace(x0,xn,n+1)\n",
    "ys = 2/(4+xs**2)**(3/2)\n",
    "dx = (xn-x0)/(n-1)\n",
    "sci_trap_sol = integrate.trapz(ys,xs,dx)\n",
    "print('exact scipy solution Trapazoidal:', sci_trap_sol)\n",
    "sci_simp_sol = integrate.simps(ys,xs)\n",
    "print('exact scipy solution Simpsons:', sci_simp_sol)"
   ]
  },
  {
   "cell_type": "markdown",
   "metadata": {},
   "source": [
    "# Question\n",
    "How do scipy integrals compare to yours? Support your answer. The trapezoidal scipy functions gives you a better result but still underestimates the just as my own algorithm does. However the simpsons rule algorithm I made came to the exact value as the scipy simpsons algorithm but they both overestimated the function."
   ]
  },
  {
   "cell_type": "markdown",
   "metadata": {},
   "source": []
  },
  {
   "cell_type": "code",
   "execution_count": 74,
   "metadata": {},
   "outputs": [
    {
     "name": "stdout",
     "output_type": "stream",
     "text": [
      "0.3798752218060784\n",
      "0.35267026921866235\n",
      "0.35355179062444925\n",
      "exact scipy solution Trapazoidal: 0.35293994641413146\n",
      "exact scipy solution Simpsons: 0.35355179062444925\n",
      "exact solution: 0.3535533905932738\n"
     ]
    }
   ],
   "source": [
    "#print the numerical values\n",
    "my_midpoint_sol = midpoint_rule(lambda x: 2/((4+x**2)**(3/2)),0,2,6)\n",
    "my_trapezoidal_sol = trapezoidal_rule(lambda x: 2/((4+x**2)**(3/2)),0,2,6)\n",
    "my_simpsons_sol = simpsons_rule(lambda x: 2/((4+x**2)**(3/2)),0,2,6)\n",
    "print('exact scipy solution Trapazoidal:', sci_trap_sol)\n",
    "print('exact scipy solution Simpsons:', sci_simp_sol)\n",
    "print(\"exact solution:\",exact_solution)"
   ]
  },
  {
   "cell_type": "markdown",
   "metadata": {},
   "source": [
    "Numerically compare your midpoint, trapazoid, and Simpson method results to the exact value by calculating the quantity (approx - exact) / exact for each method. "
   ]
  },
  {
   "cell_type": "code",
   "execution_count": 78,
   "metadata": {},
   "outputs": [
    {
     "name": "stdout",
     "output_type": "stream",
     "text": [
      "values compared to exact solution\n",
      "-0.0024978444503941373\n",
      "-4.525395222075483e-06\n"
     ]
    }
   ],
   "source": [
    "#numerical comparisons\n",
    "exact_trapezoidal_value = (.35267026921866235-exact_solution)/exact_solution\n",
    "exact_simpsons_value = (.35355179062444925-exact_solution)/exact_solution\n",
    "print(\"values compared to exact solution\")\n",
    "print(exact_trapezoidal_value)\n",
    "print(exact_simpsons_value)"
   ]
  },
  {
   "cell_type": "markdown",
   "metadata": {},
   "source": [
    "# Question\n",
    "Which method provides the best approximation to the exact solution? The simpsons rule is giving the closest approximation."
   ]
  },
  {
   "cell_type": "markdown",
   "metadata": {},
   "source": []
  },
  {
   "cell_type": "markdown",
   "metadata": {},
   "source": [
    "It is often useful to represent the data graphically. Make a scatter plot showing the percent difference $100 \\times \\frac{approx. - exact}{exact}$ vs. integration method. Integration method on your x-axis should be strings such as *midpoint, trapazoid, and Simpson*. You should also draw on your plot a line at *y = 0*, which will help guide the eye where the perfect approximation (the exact solution) would sit. "
   ]
  },
  {
   "cell_type": "code",
   "execution_count": 16,
   "metadata": {},
   "outputs": [
    {
     "data": {
      "text/plain": [
       "Text(0, 0.5, 'Percent Difference')"
      ]
     },
     "execution_count": 16,
     "metadata": {},
     "output_type": "execute_result"
    },
    {
     "data": {
      "image/png": "[encoded data removed]",
      "text/plain": [
       "<Figure size 432x288 with 1 Axes>"
      ]
     },
     "metadata": {
      "needs_background": "light"
     },
     "output_type": "display_data"
    }
   ],
   "source": [
    "#plot\n",
    "x = (0,2)\n",
    "y = (.24978444503941373, .000452539522075483)\n",
    "y_perf = (0,0)\n",
    "fig = plt.figure()\n",
    "ax = fig.add_axes([0.1,0.1,1.0,1.0])\n",
    "ax.plot(x,y_perf, label='perfect approximation')\n",
    "ax.scatter(x,y,marker='X')\n",
    "ax.set_xlabel('Trapezoidal Rule                                         Simpsons Rule')\n",
    "ax.set_ylabel('Percent Difference')"
   ]
  },
  {
   "cell_type": "markdown",
   "metadata": {},
   "source": [
    "Using the scipy *quad* integration method, approximate the following integral\n",
    "\n",
    "$$\\int_{-\\infty}^{\\infty} e^{-x^{2}} dx$$\n",
    "\n",
    "Hint: Reference <a href=\"https://numpy.org/\">numpy</a> and see what it has to offer in terms of functions and *special* values"
   ]
  },
  {
   "cell_type": "code",
   "execution_count": 84,
   "metadata": {},
   "outputs": [
    {
     "name": "stdout",
     "output_type": "stream",
     "text": [
      "1.772453850905516\n"
     ]
    }
   ],
   "source": [
    "#solve integral above\n",
    "sci_quad = integrate.quad(lambda x: math.e**(-x**2),-1000,1000)\n",
    "print(sci_quad[0])"
   ]
  },
  {
   "cell_type": "markdown",
   "metadata": {},
   "source": [
    "# Question\n",
    "If you square your solution, does the resulting number have any special meaning? Of course, this solution is the square-root of pi. One of the most importent mathematical constants. "
   ]
  },
  {
   "cell_type": "markdown",
   "metadata": {},
   "source": []
  }
 ],
 "metadata": {
  "kernelspec": {
   "display_name": "Python 3",
   "language": "python",
   "name": "python3"
  },
  "language_info": {
   "codemirror_mode": {
    "name": "ipython",
    "version": 3
   },
   "file_extension": ".py",
   "mimetype": "text/x-python",
   "name": "python",
   "nbconvert_exporter": "python",
   "pygments_lexer": "ipython3",
   "version": "3.8.8"
  }
 },
 "nbformat": 4,
 "nbformat_minor": 4
}
