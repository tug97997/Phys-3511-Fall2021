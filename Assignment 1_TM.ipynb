{
 "cells": [
  {
   "cell_type": "markdown",
   "metadata": {},
   "source": [
    "# Assignment 01: Due 09/01\n",
    "\n",
    "For this assignment you can use the following packages\n",
    "- numpy\n",
    "- mtplotlib\n",
    "- There is a python math module. This would be imported as\n",
    "  - > import math  \n",
    "  \n",
    "Before final sumbission it is a good idea to click on 'Kernel' --> 'Restart & Run All' to make sure your entire notebook runs correctly. It is easy to accidetly modify a value you did not intend to."
   ]
  },
  {
   "cell_type": "code",
   "execution_count": 28,
   "metadata": {},
   "outputs": [],
   "source": [
    "#import the packages here\n",
    "import numpy as np\n",
    "import matplotlib.pyplot as plt\n",
    "import math"
   ]
  },
  {
   "cell_type": "markdown",
   "metadata": {},
   "source": [
    "## Problem 1\n",
    "(Problem adapted from scipy.com)\n",
    "\n",
    "Stirling's Approximation for $ln(n!)$ is:\n",
    "\n",
    "\\begin{equation}\n",
    "ln(n!) \\approx nln(n) − n.\n",
    "\\end{equation}\n",
    "\n",
    "Write a program to output $ln(n!)$ and its Stirling's approximation for $2 < n < 20$. Plot on the same graph the exact value and the approximate value as a function of n. Be sure to lable your curves and axes. **Hint**: the math module (and numpy.math) provides a factorial() method.\n"
   ]
  },
  {
   "cell_type": "code",
   "execution_count": 32,
   "metadata": {},
   "outputs": [
    {
     "data": {
      "image/png": "[encoded data removed]",
      "text/plain": [
       "<Figure size 432x288 with 1 Axes>"
      ]
     },
     "metadata": {
      "needs_background": "light"
     },
     "output_type": "display_data"
    }
   ],
   "source": [
    "n = 3\n",
    "xval=[]\n",
    "yval=[]\n",
    "xap=[]\n",
    "yap=[]\n",
    "def fofn(a):\n",
    "    fn=math.log(math.factorial(a))\n",
    "    xval.append(a)\n",
    "    yval.append(fn)\n",
    "    return fn\n",
    "def approx(x):\n",
    "    fax =x*math.log(x)-x\n",
    "    xap.append(n)\n",
    "    yap.append(fax)\n",
    "    return fax\n",
    "    \n",
    "    \n",
    "for n in range (3,20):\n",
    "    fofn(n)\n",
    "    approx(n)\n",
    "\n",
    "plt.plot(xval,yval,label = \"actual calculation\")\n",
    "plt.plot(xap,yap,label = \"Stirling approximation\")\n",
    "plt.xlabel('n value')\n",
    "plt.title('stirling approximation comparison')\n",
    "plt.legend()\n",
    "plt.show()\n"
   ]
  },
  {
   "cell_type": "markdown",
   "metadata": {},
   "source": [
    "Now modify the program to output $ln(n!)$, Stirling's approximation, and the relative error in the approximation, for only the first value of n for which the relative error in the approximation, (exact-approx)/exact,  is less than 1%. Your out put should quote number to 3 decimal places. **Hint**: You may need to increase your n value and you may get an error message. Can you determine why you get an error and how to correctly make this comparison? "
   ]
  },
  {
   "cell_type": "code",
   "execution_count": 33,
   "metadata": {},
   "outputs": [
    {
     "name": "stdout",
     "output_type": "stream",
     "text": [
      "90\n",
      "0.996\n"
     ]
    }
   ],
   "source": [
    "dummy=1\n",
    "b=3\n",
    "while dummy ==1:\n",
    "    c = fofn(b)\n",
    "    z = approx(b)\n",
    "    error = 100*(abs(c-z)/c)\n",
    "    \n",
    "    if error < 1:\n",
    "        print(b)\n",
    "        print(round(error,3))\n",
    "        dummy = 0\n",
    "    else:\n",
    "        b=b+1"
   ]
  },
  {
   "cell_type": "markdown",
   "metadata": {},
   "source": [
    "## Problem 2\n",
    "Create a numpy array of 100 7's."
   ]
  },
  {
   "cell_type": "code",
   "execution_count": 6,
   "metadata": {},
   "outputs": [
    {
     "name": "stdout",
     "output_type": "stream",
     "text": [
      "100\n",
      "['7' '7' '7' '7' '7' '7' '7' '7' '7' '7' '7' '7' '7' '7' '7' '7' '7' '7'\n",
      " '7' '7' '7' '7' '7' '7' '7' '7' '7' '7' '7' '7' '7' '7' '7' '7' '7' '7'\n",
      " '7' '7' '7' '7' '7' '7' '7' '7' '7' '7' '7' '7' '7' '7' '7' '7' '7' '7'\n",
      " '7' '7' '7' '7' '7' '7' '7' '7' '7' '7' '7' '7' '7' '7' '7' '7' '7' '7'\n",
      " '7' '7' '7' '7' '7' '7' '7' '7' '7' '7' '7' '7' '7' '7' '7' '7' '7' '7'\n",
      " '7' '7' '7' '7' '7' '7' '7' '7' '7' '7']\n"
     ]
    },
    {
     "data": {
      "text/plain": [
       "numpy.ndarray"
      ]
     },
     "execution_count": 6,
     "metadata": {},
     "output_type": "execute_result"
    }
   ],
   "source": [
    "sevens =[] \n",
    "x=len(sevens)\n",
    "while x <= 99:\n",
    "    sevens.append(\"7\")\n",
    "    x=x+1\n",
    "sevensarray = np.array(sevens)\n",
    "\n",
    "print(len(sevensarray))\n",
    "print(sevensarray)\n",
    "type(sevensarray)"
   ]
  },
  {
   "cell_type": "markdown",
   "metadata": {},
   "source": [
    "## Problem 3\n",
    "Given the numpy array below. Write a print statement that prints the array below for all values that are larger than 5."
   ]
  },
  {
   "cell_type": "code",
   "execution_count": 14,
   "metadata": {},
   "outputs": [
    {
     "name": "stdout",
     "output_type": "stream",
     "text": [
      "[ 5  0  3  3  7  9  3  5  2  4  7  6  8  8 10  1  6  7  7  8  1  5  9  8\n",
      "  9  4  3  0  3  5  0  2  3  8  1  3  3  3  7  0  1  9  9  0 10  4  7  3\n",
      "  2  7]\n"
     ]
    }
   ],
   "source": [
    "np.random.seed(0)\n",
    "arr = np.random.randint(0,11,50)\n",
    "print(arr)"
   ]
  },
  {
   "cell_type": "code",
   "execution_count": 16,
   "metadata": {},
   "outputs": [
    {
     "data": {
      "text/plain": [
       "array([ 7,  9,  7,  6,  8,  8, 10,  6,  7,  7,  8,  9,  8,  9,  8,  7,  9,\n",
       "        9, 10,  7,  7])"
      ]
     },
     "execution_count": 16,
     "metadata": {},
     "output_type": "execute_result"
    }
   ],
   "source": [
    "arr[arr>5]"
   ]
  },
  {
   "cell_type": "markdown",
   "metadata": {},
   "source": [
    "## Problem 4\n",
    "Write a print statement that prints the below array with all values of '3' removed."
   ]
  },
  {
   "cell_type": "code",
   "execution_count": 17,
   "metadata": {},
   "outputs": [
    {
     "name": "stdout",
     "output_type": "stream",
     "text": [
      "[4 5 0 3 3 3 1 3 5 2 4 0 0 4 2 1 0 1 5 1]\n"
     ]
    }
   ],
   "source": [
    "np.random.seed(0)\n",
    "arr2 = np.random.randint(0,6,20)\n",
    "print(arr2)"
   ]
  },
  {
   "cell_type": "code",
   "execution_count": 19,
   "metadata": {},
   "outputs": [
    {
     "data": {
      "text/plain": [
       "array([4, 5, 0, 1, 5, 2, 4, 0, 0, 4, 2, 1, 0, 1, 5, 1])"
      ]
     },
     "execution_count": 19,
     "metadata": {},
     "output_type": "execute_result"
    }
   ],
   "source": [
    "arr2[arr2!=3]"
   ]
  },
  {
   "cell_type": "markdown",
   "metadata": {},
   "source": [
    "## Problem 5a\n",
    "Use numpy *random.randn()* to create a random 2D matrix array, that has 1000 entries in each dimension. When genereating the random values set the randome seed to zero. \n",
    "\n",
    "Fixing a seed will ensure that the same *random* values are generated eveytime you run the cell. You can try removing the seed specification and you will notice you get different random number generations each time you run the cell. In genral it is good practice to fix the seed when debugging your code.\n"
   ]
  },
  {
   "cell_type": "code",
   "execution_count": null,
   "metadata": {},
   "outputs": [],
   "source": [
    "## vectors 1 and 2 see 5d"
   ]
  },
  {
   "cell_type": "markdown",
   "metadata": {},
   "source": [
    "## Problem 5b\n",
    "Create a plot that contains two subplots (one row tow pots). In each sub plot make a histogram of x and y random values from your matrix created in part a. Be sure to label your axes. The histograms will allow us to see how our data is distributed."
   ]
  },
  {
   "cell_type": "code",
   "execution_count": 43,
   "metadata": {},
   "outputs": [
    {
     "data": {
      "image/png": "[encoded data removed]",
      "text/plain": [
       "<Figure size 432x288 with 2 Axes>"
      ]
     },
     "metadata": {
      "needs_background": "light"
     },
     "output_type": "display_data"
    }
   ],
   "source": [
    "fig, axes = plt.subplots(1,2)\n",
    "vector2 = np.random.randn(1000)\n",
    "vector1=np.random.randn(1000)\n",
    "axes[0].hist(vec2)\n",
    "axes[1].hist(vec1)\n",
    "axes[0].set_title('first vector')\n",
    "axes[0].set_xlabel('element value')\n",
    "axes[0].set_ylabel('count')\n",
    "axes[1].set_title('second vector')\n",
    "axes[1].set_xlabel('element value')\n",
    "axes[1].set_ylabel('count')\n",
    "plt.tight_layout();"
   ]
  },
  {
   "cell_type": "markdown",
   "metadata": {},
   "source": [
    "## Problem 5c\n",
    "Now make a x-y scatter plot of your 2D matrix from part a. Each axis should contain one matrix dimension. Be sure to label your axes. This will allow us to see if there are any obious correlations or dependencies on one another in our data."
   ]
  },
  {
   "cell_type": "code",
   "execution_count": 38,
   "metadata": {},
   "outputs": [
    {
     "data": {
      "text/plain": [
       "Text(0.5, 1.0, 'scatter plot vector 1 vs vector 2')"
      ]
     },
     "execution_count": 38,
     "metadata": {},
     "output_type": "execute_result"
    },
    {
     "data": {
      "image/png": "[encoded data removed]",
      "text/plain": [
       "<Figure size 432x288 with 1 Axes>"
      ]
     },
     "metadata": {
      "needs_background": "light"
     },
     "output_type": "display_data"
    }
   ],
   "source": [
    "orgvector1=np.sort(vec1)\n",
    "orgvector2=np.sort(vec2)\n",
    "scatterfig=plt.figure()\n",
    "ax = scatterfig.add_axes([0.1,0.1,0.8,0.8])\n",
    "ax.scatter(orgvector1,orgvector2,marker='o')\n",
    "ax.set_xlabel('vector one element value')\n",
    "ax.set_ylabel('vector two element value')\n",
    "ax.set_title('scatter plot vector 1 vs vector 2')"
   ]
  },
  {
   "cell_type": "markdown",
   "metadata": {},
   "source": [
    "## Problem 5d\n",
    "The scatter plot form part c is good for investigating dependencies, but it is often hard to judge the density of the data, i.e. how much of our data is at a particular x-y range. To see this more clearly we can make a 2D histogram plot, where color corresponding to a 2D bin changes based on the number of counts in it.\n",
    "\n",
    "Make a 2D histogram of your 2D matrix from part a."
   ]
  },
  {
   "cell_type": "code",
   "execution_count": 42,
   "metadata": {},
   "outputs": [
    {
     "data": {
      "text/plain": [
       "(array([ 1.,  0.,  0.,  0.,  1.,  0.,  1.,  0.,  2.,  0.,  0.,  0.,  2.,\n",
       "         3.,  2.,  4.,  2.,  1.,  5.,  4.,  3.,  4.,  2.,  7.,  7.,  8.,\n",
       "        10.,  7., 15.,  7., 10., 12., 12., 16., 18., 16., 24., 17., 18.,\n",
       "        18., 15., 19., 20., 24., 24., 23., 21., 18., 32., 25., 30., 20.,\n",
       "        11., 31., 19., 21., 27., 15., 24., 32., 24., 20., 23., 21., 16.,\n",
       "        19., 17., 10., 15., 18.,  6.,  9., 12., 10.,  9.,  5., 10.,  5.,\n",
       "         8.,  5.,  2.,  3.,  3., 10.,  3.,  1.,  0.,  1.,  1.,  1.,  1.,\n",
       "         0.,  1.,  0.,  0.,  0.,  0.,  0.,  0.,  1.]),\n",
       " array([-3.11685659, -3.05639706, -2.99593753, -2.93547801, -2.87501848,\n",
       "        -2.81455895, -2.75409942, -2.69363989, -2.63318036, -2.57272084,\n",
       "        -2.51226131, -2.45180178, -2.39134225, -2.33088272, -2.27042319,\n",
       "        -2.20996367, -2.14950414, -2.08904461, -2.02858508, -1.96812555,\n",
       "        -1.90766602, -1.8472065 , -1.78674697, -1.72628744, -1.66582791,\n",
       "        -1.60536838, -1.54490885, -1.48444933, -1.4239898 , -1.36353027,\n",
       "        -1.30307074, -1.24261121, -1.18215168, -1.12169216, -1.06123263,\n",
       "        -1.0007731 , -0.94031357, -0.87985404, -0.81939451, -0.75893499,\n",
       "        -0.69847546, -0.63801593, -0.5775564 , -0.51709687, -0.45663734,\n",
       "        -0.39617782, -0.33571829, -0.27525876, -0.21479923, -0.1543397 ,\n",
       "        -0.09388017, -0.03342065,  0.02703888,  0.08749841,  0.14795794,\n",
       "         0.20841747,  0.268877  ,  0.32933652,  0.38979605,  0.45025558,\n",
       "         0.51071511,  0.57117464,  0.63163417,  0.69209369,  0.75255322,\n",
       "         0.81301275,  0.87347228,  0.93393181,  0.99439134,  1.05485086,\n",
       "         1.11531039,  1.17576992,  1.23622945,  1.29668898,  1.35714851,\n",
       "         1.41760803,  1.47806756,  1.53852709,  1.59898662,  1.65944615,\n",
       "         1.71990568,  1.7803652 ,  1.84082473,  1.90128426,  1.96174379,\n",
       "         2.02220332,  2.08266285,  2.14312237,  2.2035819 ,  2.26404143,\n",
       "         2.32450096,  2.38496049,  2.44542002,  2.50587954,  2.56633907,\n",
       "         2.6267986 ,  2.68725813,  2.74771766,  2.80817719,  2.86863671,\n",
       "         2.92909624]),\n",
       " <BarContainer object of 100 artists>)"
      ]
     },
     "execution_count": 42,
     "metadata": {},
     "output_type": "execute_result"
    },
    {
     "data": {
      "image/png": "[encoded data removed]",
      "text/plain": [
       "<Figure size 432x288 with 1 Axes>"
      ]
     },
     "metadata": {
      "needs_background": "light"
     },
     "output_type": "display_data"
    }
   ],
   "source": [
    "dubhist = plt.figure()\n",
    "axi = dubhist.add_axes([0.1,0.1,0.8,0.8])\n",
    "axi.set_xlabel('element value')\n",
    "axi.set_ylabel('count')\n",
    "axi.set_title('Two histograms from 5a overlapping')\n",
    "axi.hist(vec1,bins=100)\n",
    "axi.hist(vec2,bins=100)"
   ]
  },
  {
   "cell_type": "markdown",
   "metadata": {},
   "source": [
    "## Problem 6\n",
    "\n",
    "Using *linspace* Generate 100 equally spaced points from 0 to 1. Then plot the cube of the values generated from *linespace* vs the *linspace* generated values."
   ]
  },
  {
   "cell_type": "code",
   "execution_count": 21,
   "metadata": {},
   "outputs": [
    {
     "name": "stdout",
     "output_type": "stream",
     "text": [
      "[0.         0.01010101 0.02020202 0.03030303 0.04040404 0.05050505\n",
      " 0.06060606 0.07070707 0.08080808 0.09090909 0.1010101  0.11111111\n",
      " 0.12121212 0.13131313 0.14141414 0.15151515 0.16161616 0.17171717\n",
      " 0.18181818 0.19191919 0.2020202  0.21212121 0.22222222 0.23232323\n",
      " 0.24242424 0.25252525 0.26262626 0.27272727 0.28282828 0.29292929\n",
      " 0.3030303  0.31313131 0.32323232 0.33333333 0.34343434 0.35353535\n",
      " 0.36363636 0.37373737 0.38383838 0.39393939 0.4040404  0.41414141\n",
      " 0.42424242 0.43434343 0.44444444 0.45454545 0.46464646 0.47474747\n",
      " 0.48484848 0.49494949 0.50505051 0.51515152 0.52525253 0.53535354\n",
      " 0.54545455 0.55555556 0.56565657 0.57575758 0.58585859 0.5959596\n",
      " 0.60606061 0.61616162 0.62626263 0.63636364 0.64646465 0.65656566\n",
      " 0.66666667 0.67676768 0.68686869 0.6969697  0.70707071 0.71717172\n",
      " 0.72727273 0.73737374 0.74747475 0.75757576 0.76767677 0.77777778\n",
      " 0.78787879 0.7979798  0.80808081 0.81818182 0.82828283 0.83838384\n",
      " 0.84848485 0.85858586 0.86868687 0.87878788 0.88888889 0.8989899\n",
      " 0.90909091 0.91919192 0.92929293 0.93939394 0.94949495 0.95959596\n",
      " 0.96969697 0.97979798 0.98989899 1.        ]\n"
     ]
    }
   ],
   "source": [
    "earray = np.linspace(0,1,100)\n",
    "print(earray)"
   ]
  },
  {
   "cell_type": "code",
   "execution_count": 34,
   "metadata": {},
   "outputs": [
    {
     "data": {
      "image/png": "[encoded data removed]",
      "text/plain": [
       "<Figure size 432x288 with 1 Axes>"
      ]
     },
     "metadata": {
      "needs_background": "light"
     },
     "output_type": "display_data"
    }
   ],
   "source": [
    "cubed = earray**3\n",
    "plt.plot(earray, cubed, label=\"linespace cubed\")\n",
    "plt.xlabel('output')\n",
    "plt.ylabel('output cubed')\n",
    "plt.title('linespace of n cubed vs linespace')\n",
    "plt.legend()\n",
    "plt.show()"
   ]
  },
  {
   "cell_type": "code",
   "execution_count": null,
   "metadata": {},
   "outputs": [],
   "source": []
  }
 ],
 "metadata": {
  "kernelspec": {
   "display_name": "Python 3",
   "language": "python",
   "name": "python3"
  },
  "language_info": {
   "codemirror_mode": {
    "name": "ipython",
    "version": 3
   },
   "file_extension": ".py",
   "mimetype": "text/x-python",
   "name": "python",
   "nbconvert_exporter": "python",
   "pygments_lexer": "ipython3",
   "version": "3.8.8"
  }
 },
 "nbformat": 4,
 "nbformat_minor": 4
}
